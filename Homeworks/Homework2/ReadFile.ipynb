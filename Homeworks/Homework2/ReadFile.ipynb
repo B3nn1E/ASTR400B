{
 "cells": [
  {
   "cell_type": "code",
   "execution_count": 1,
   "metadata": {},
   "outputs": [],
   "source": [
    "# Import Modules \n",
    "import numpy as np\n",
    "import astropy.units as u"
   ]
  },
  {
   "cell_type": "code",
   "execution_count": 2,
   "metadata": {},
   "outputs": [],
   "source": [
    "def Read(filename):\n",
    "    '''\n",
    "    This function will open and read the input file (MW_000.txt in this case).\n",
    "    Inputs: \n",
    "        filename is the name of the input file\n",
    "    Outputs: \n",
    "        the time, and total number of particles as variables \n",
    "        particle type, mass, x, y, z, vx, vy, vz columns as a data array\n",
    "    '''\n",
    "    # Open the file\n",
    "    file = open(filename)\n",
    "\n",
    "    # Read the first line and store the time in units of Myr\n",
    "    line1 =  file.readline() # read the first line  \n",
    "    label, value = line1.split() # split the line and assign it to label and value \n",
    "    time = float(value) * u.Myr # convert value into float and assign the unit Myr to it\n",
    "\n",
    "    # Read the second line and store the total number of particles\n",
    "    line2 = file.readline() # read the second line \n",
    "    label2, value2 = line2.split() # split the line and assign it to label2 and value2\n",
    "    total_particles = int(value2) # convert to integer from text just in case\n",
    "\n",
    "    # Close the file\n",
    "    file.close()\n",
    "\n",
    "    # Store the remainder of the file, matching them with the header information\n",
    "    data = np.genfromtxt(filename, dtype = None, names = True, skip_header = 3)\n",
    "\n",
    "    return time, total_particles, data \n"
   ]
  },
  {
   "cell_type": "code",
   "execution_count": 3,
   "metadata": {},
   "outputs": [
    {
     "name": "stdout",
     "output_type": "stream",
     "text": [
      "Time: 0.0 Myr\n",
      "Total Particles: 135000\n",
      "First 10 rows of data:\n",
      " [(1., 0.00394985,   -2.51725 ,   19.1588 ,   52.8528,    0.134962, 116.109   ,  -85.3822 )\n",
      " (1., 0.00394985, -286.601   ,  298.455  ,  391.692 ,   50.2658  , -46.4521  ,   15.1825 )\n",
      " (1., 0.00394985,   -0.505945,  -28.6337 ,  -83.9565,   11.3833  ,  -0.974253,  -39.3509 )\n",
      " (1., 0.00394985, -169.208   , -141.076  ,   28.8841, -134.911   , -59.8463  ,  146.146  )\n",
      " (1., 0.00394985,   26.1592  ,   -3.17322,   14.0847,  -84.9953  , -91.8176  , -152.308  )\n",
      " (1., 0.00394985,  115.935   ,  346.603  , -753.736 ,  -13.2898  , -30.9469  ,   94.8959 )\n",
      " (1., 0.00394985, -340.719   ,  -87.767  , -270.706 ,   83.6228  ,  48.8291  ,   52.8333 )\n",
      " (1., 0.00394985,   -5.75122 ,   56.4069 ,  -70.3854,  -55.7497  ,  24.6502  , -191.769  )\n",
      " (1., 0.00394985,  -13.2277  ,  -12.5479 ,   61.8794,  129.571   , -57.6888  ,    1.98305)\n",
      " (1., 0.00394985, -294.037   ,   99.5873 ,  251.595 ,   70.1594  ,  45.1035  ,  -91.9347 )]\n",
      "x position of the 2nd particle: -286.601\n",
      "vz velocity of the 6th particle: 94.8959\n"
     ]
    }
   ],
   "source": [
    "# Test the previous function to see if it fits the actual text file\n",
    "# Extracting time, total_particles, and data information from MW_000.txt\n",
    "time, total_particles, data = Read(r'C:\\Users\\kietb\\OneDrive\\Desktop\\Suffering\\Undergrad\\ASTR400B\\Homeworks\\Homework2\\MW_000.txt')\n",
    "\n",
    "print(\"Time:\", time) # test print time\n",
    "print(\"Total Particles:\", total_particles) # test print the total number of particles\n",
    "print(\"First 10 rows of data:\\n\", data[:10]) # test print the data\n",
    "\n",
    "# Check the particle position & velocity\n",
    "print(\"x position of the 2nd particle:\", data['x'][1])\n",
    "print(\"vz velocity of the 6th particle:\", data['vz'][5])\n",
    "\n"
   ]
  }
 ],
 "metadata": {
  "kernelspec": {
   "display_name": "Python 3",
   "language": "python",
   "name": "python3"
  },
  "language_info": {
   "codemirror_mode": {
    "name": "ipython",
    "version": 3
   },
   "file_extension": ".py",
   "mimetype": "text/x-python",
   "name": "python",
   "nbconvert_exporter": "python",
   "pygments_lexer": "ipython3",
   "version": "3.12.8"
  }
 },
 "nbformat": 4,
 "nbformat_minor": 2
}
