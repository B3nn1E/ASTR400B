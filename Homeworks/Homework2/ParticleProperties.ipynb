{
 "cells": [
  {
   "cell_type": "code",
   "execution_count": 7,
   "metadata": {},
   "outputs": [],
   "source": [
    "# Import Modules \n",
    "import numpy as np\n",
    "import astropy.units as u"
   ]
  },
  {
   "cell_type": "code",
   "execution_count": 17,
   "metadata": {},
   "outputs": [],
   "source": [
    "# Recall the Read function from the ReadFile file\n",
    "from ReadFile import Read"
   ]
  },
  {
   "cell_type": "code",
   "execution_count": 15,
   "metadata": {},
   "outputs": [],
   "source": [
    "def ParticleInfo(filename, particle_type, particle_number):\n",
    "   ''' \n",
    "   This function will return the magnitude of distance, magnitude of velocity, and mass for any given particle of any given type.\n",
    "   Inputs: \n",
    "       filename is the input file\n",
    "       particle_type is the type of particle\n",
    "       particle_number is the index of the particle within the data file\n",
    "   Output: \n",
    "       distance_magnitude (astropy units kpc) is the magnitude of the distance measured from the center of mass position of the Milky Way \n",
    "       velocity_magnitude (astropy units km/s) is the magnitude of the velocity measured in a Cartesian coordinate system centered on the \n",
    "              location of the Milky Way\n",
    "       mass (astropy units M_sun) is the mass of the particle\n",
    "   ''' \n",
    "\n",
    "   # Retrieve values from the data file using Read function\n",
    "   time, total_particles, data = Read(filename)\n",
    "\n",
    "   # Extract indices for particles of a given type\n",
    "   index = np.where(data['type'] == particle_type)\n",
    "\n",
    "   # Take out the particles only of the given type\n",
    "   given_type_particles = data[index]\n",
    "\n",
    "   # Extract the position data (in kpc)\n",
    "   x = given_type_particles['x'][particle_number] * u.kpc # x component\n",
    "   y = given_type_particles['y'][particle_number] * u.kpc # y component \n",
    "   z = given_type_particles['z'][particle_number] * u.kpc # z component\n",
    "\n",
    "   # Calculate the distance magnitude (in kpc)\n",
    "   distance_magnitude = np.round(np.sqrt(x**2 + y**2 + z**2), 3)\n",
    "\n",
    "   # Extract the velocity data (in km/s)\n",
    "   vx = given_type_particles['vx'][particle_number] * u.km/u.s # velocity in x direction\n",
    "   vy = given_type_particles['vy'][particle_number] * u.km/u.s # velocity in y direction\n",
    "   vz = given_type_particles['vz'][particle_number] * u.km/u.s # velocity in z direction\n",
    "\n",
    "   # Calculate the velocity magnitude (in km/s)\n",
    "   velocity_magnitude = np.round(np.sqrt(vx**2 + vy**2 + vz**2), 3)\n",
    "\n",
    "   # Extract mass of particles (in M_sun)\n",
    "   mass = given_type_particles['m'][particle_number] * 10e10 * u.M_sun\n",
    "\n",
    "   return distance_magnitude, velocity_magnitude, mass"
   ]
  },
  {
   "cell_type": "code",
   "execution_count": 16,
   "metadata": {},
   "outputs": [
    {
     "name": "stdout",
     "output_type": "stream",
     "text": [
      "3D Distance: 4.245 kpc kpc\n",
      "Distance in Light-years: 13845.338234075754 lyr ly\n",
      "3D Velocity: 312.135 km / s km/s\n",
      "Mass: 10000000.0 solMass\n"
     ]
    }
   ],
   "source": [
    "# Code testing prompt: Determine properties of the 100th disk particle (type 2) of the Milky Way at SnapNumber 0\n",
    "# Convert distance to ly\n",
    "# Type 1: Dark Matter Particles, type 2: Stellar Disk Particles, type 3: Stellar Bulge Particles\n",
    "# For the 100th particle (index 99)\n",
    "# Call the function and extract the properties\n",
    "distance_3d, velocity_3d, mass = ParticleInfo('MW_000.txt', 2, 99)\n",
    "\n",
    "# Convert distance from kpc to ly\n",
    "distance_ly = distance_3d.to(u.lyr)\n",
    "\n",
    "# Print results for 100th particle in the disk\n",
    "print(f\"3D Distance: {distance_3d} kpc\")\n",
    "print(f\"Distance in Light-years: {distance_ly} ly\")\n",
    "print(f\"3D Velocity: {velocity_3d} km/s\")\n",
    "print(f\"Mass: {mass}\")"
   ]
  }
 ],
 "metadata": {
  "kernelspec": {
   "display_name": "Python 3",
   "language": "python",
   "name": "python3"
  },
  "language_info": {
   "codemirror_mode": {
    "name": "ipython",
    "version": 3
   },
   "file_extension": ".py",
   "mimetype": "text/x-python",
   "name": "python",
   "nbconvert_exporter": "python",
   "pygments_lexer": "ipython3",
   "version": "3.12.8"
  }
 },
 "nbformat": 4,
 "nbformat_minor": 2
}
