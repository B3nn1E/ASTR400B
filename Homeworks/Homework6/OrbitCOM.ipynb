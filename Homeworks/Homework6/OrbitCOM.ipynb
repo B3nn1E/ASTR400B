{
 "cells": [
  {
   "cell_type": "code",
   "execution_count": null,
   "metadata": {},
   "outputs": [],
   "source": [
    "# Homework 6 Template\n",
    "# G. Besla & R. Li\n",
    "# Ben Phan"
   ]
  },
  {
   "cell_type": "code",
   "execution_count": 5,
   "metadata": {},
   "outputs": [],
   "source": [
    "# import modules\n",
    "import numpy as np\n",
    "import astropy.units as u\n",
    "from astropy.constants import G\n",
    "\n",
    "# import plotting modules\n",
    "import matplotlib.pyplot as plt\n",
    "import matplotlib\n",
    "%matplotlib inline\n",
    "\n",
    "import sys\n",
    "import os"
   ]
  },
  {
   "cell_type": "code",
   "execution_count": 6,
   "metadata": {},
   "outputs": [],
   "source": [
    "# Change path to homework3 where the ReadFile.py file is\n",
    "module_path = r'C:\\Users\\kietb\\OneDrive\\Desktop\\Suffering\\Undergrad\\ASTR400B\\Homeworks\\Homework3'\n",
    "\n",
    "# Add the directory to sys.path\n",
    "sys.path.append(module_path)\n",
    "\n",
    "# Import ReadFile\n",
    "from ReadFile import Read"
   ]
  },
  {
   "cell_type": "code",
   "execution_count": 12,
   "metadata": {},
   "outputs": [],
   "source": [
    "# Change path to homework4 where the class CenterOfMass file is\n",
    "module_path = r'C:\\Users\\kietb\\OneDrive\\Desktop\\Suffering\\Undergrad\\ASTR400B\\Homeworks\\Homework4'\n",
    "\n",
    "# Add the directory to sys.path\n",
    "sys.path.append(module_path)\n",
    "\n",
    "# Import CenterOfMass class\n",
    "from CenterOfMass_v2 import CenterOfMass"
   ]
  },
  {
   "cell_type": "code",
   "execution_count": 21,
   "metadata": {},
   "outputs": [],
   "source": [
    "def OrbitCOM(galaxy, start, end, n):\n",
    "    \"\"\"function that loops over all the desired snapshots to compute the COM pos and vel as a function of time.\n",
    "    inputs:\n",
    "        galaxy: str\n",
    "            name of the galaxy, e.g. \"MW\", \"M31\", and \"M33\"\n",
    "        start: int\n",
    "            number of the first snapshot to be read in\n",
    "        end: int\n",
    "            number of the last snapshot to be read in\n",
    "        n: int\n",
    "            intervals in which the COM will be returned\n",
    "\n",
    "    outputs: \n",
    "        fileout: txt file\n",
    "            \"Orbit_galaxyname.txt\" file contains the time, x, y, z, vx, vy, vz of the COM of the galaxy at each snapshot \n",
    "    \"\"\"\n",
    "    \n",
    "    # compose the filename for output\n",
    "    fileout = f'Orbit_{galaxy}.txt'\n",
    "\n",
    "    #  set tolerance and VolDec for calculating COM_P in CenterOfMass\n",
    "    delta = 0.1 # tolerance\n",
    "    # for M33 that is stripped more, use different values for VolDec\n",
    "    if galaxy == 'M33':\n",
    "        volDec = 4.0\n",
    "    else:\n",
    "        volDec = 2.0\n",
    "\n",
    "    # generate the snapshot id sequence \n",
    "    snap_ids = np.arange(start, end + 1, n) # end + 1 because arange ends before the end value\n",
    "\n",
    "    # it is always a good idea to also check if the input is eligible (not required)\n",
    "    # Code stops if snap_ids is empty\n",
    "    if len(snap_ids) == 0:\n",
    "        print('No snapshots available. Please try again.')\n",
    "        return\n",
    "    \n",
    "    # initialize the array for orbital info: t, x, y, z, vx, vy, vz of COM\n",
    "    orbit = np.zeros((len(snap_ids), 7)) # np.zeros need to be a tupple\n",
    "\n",
    "    # a for loop to loop over files \n",
    "    for i, snap_id in enumerate(snap_ids):\n",
    " \n",
    "        # compose the data filename (be careful about the folder)\n",
    "        ilbl = '000' + str(snap_id)\n",
    "        ilbl = ilbl[-3:] # only takes last 3 digits\n",
    "\n",
    "        # Construct filename\n",
    "        filename = f'VLowRes/{galaxy}/{galaxy}_{ilbl}.txt'\n",
    "\n",
    "        # Initialize an instance of CenterOfMass class, using disk particles\n",
    "        COM = CenterOfMass(filename, 2) # for disk particle\n",
    "\n",
    "        # Store the COM pos and vel. Remember that now COM_P required VolDec\n",
    "        com_pos = COM.COM_P(delta = delta, volDec = volDec)\n",
    "        com_vel = COM.COM_V(com_pos[0], com_pos[1], com_pos[2])\n",
    "    \n",
    "        # store the time, pos, vel in ith element of the orbit array,  without units (.value) \n",
    "        # note that you can store \n",
    "        # a[i] = var1, *tuple(array1)\n",
    "        orbit[i, 0] = (COM.time / 1000).value # convert Myr in snashot to Gyr\n",
    "        orbit[i, 1] = com_pos[0].value # x\n",
    "        orbit[i, 2] = com_pos[0].value # y\n",
    "        orbit[i, 3] = com_pos[0].value # z\n",
    "        orbit[i, 4] = com_pos[0].value # vx\n",
    "        orbit[i, 5] = com_pos[0].value # vy\n",
    "        orbit[i, 6] = com_pos[0].value # vz\n",
    "        \n",
    "        # print snap_id to see the progress\n",
    "        print(snap_id)\n",
    "        \n",
    "    # write the data to a file\n",
    "    # we do this because we don't want to have to repeat this process \n",
    "    # this code should only have to be called once per galaxy.\n",
    "    np.savetxt(fileout, orbit, fmt = \"%11.3f\"*7, comments='#',\n",
    "               header=\"{:>10s}{:>11s}{:>11s}{:>11s}{:>11s}{:>11s}{:>11s}\"\\\n",
    "                      .format('t', 'x', 'y', 'z', 'vx', 'vy', 'vz'))\n",
    "    print(f\"Successfully orbit to {fileout}\")"
   ]
  },
  {
   "cell_type": "code",
   "execution_count": 23,
   "metadata": {},
   "outputs": [
    {
     "ename": "FileNotFoundError",
     "evalue": "[Errno 2] No such file or directory: 'VLowRes/MW/MW_000.txt'",
     "output_type": "error",
     "traceback": [
      "\u001b[1;31m---------------------------------------------------------------------------\u001b[0m",
      "\u001b[1;31mFileNotFoundError\u001b[0m                         Traceback (most recent call last)",
      "Cell \u001b[1;32mIn[23], line 4\u001b[0m\n\u001b[0;32m      1\u001b[0m \u001b[38;5;66;03m# Recover the orbits and generate the COM files for each galaxy\u001b[39;00m\n\u001b[0;32m      2\u001b[0m \u001b[38;5;66;03m# read in 800 snapshots in intervals of n=5\u001b[39;00m\n\u001b[0;32m      3\u001b[0m \u001b[38;5;66;03m# Note: This might take a little while - test your code with a smaller number of snapshots first! \u001b[39;00m\n\u001b[1;32m----> 4\u001b[0m \u001b[43mOrbitCOM\u001b[49m\u001b[43m(\u001b[49m\u001b[38;5;124;43m\"\u001b[39;49m\u001b[38;5;124;43mMW\u001b[39;49m\u001b[38;5;124;43m\"\u001b[39;49m\u001b[43m,\u001b[49m\u001b[43m \u001b[49m\u001b[38;5;241;43m0\u001b[39;49m\u001b[43m,\u001b[49m\u001b[43m \u001b[49m\u001b[38;5;241;43m800\u001b[39;49m\u001b[43m,\u001b[49m\u001b[43m \u001b[49m\u001b[38;5;241;43m5\u001b[39;49m\u001b[43m)\u001b[49m\n\u001b[0;32m      5\u001b[0m OrbitCOM(\u001b[38;5;124m\"\u001b[39m\u001b[38;5;124mM31\u001b[39m\u001b[38;5;124m\"\u001b[39m, \u001b[38;5;241m0\u001b[39m, \u001b[38;5;241m800\u001b[39m, \u001b[38;5;241m5\u001b[39m)\n\u001b[0;32m      6\u001b[0m OrbitCOM(\u001b[38;5;124m\"\u001b[39m\u001b[38;5;124mM33\u001b[39m\u001b[38;5;124m\"\u001b[39m, \u001b[38;5;241m0\u001b[39m, \u001b[38;5;241m800\u001b[39m, \u001b[38;5;241m5\u001b[39m)\n",
      "Cell \u001b[1;32mIn[21], line 52\u001b[0m, in \u001b[0;36mOrbitCOM\u001b[1;34m(galaxy, start, end, n)\u001b[0m\n\u001b[0;32m     49\u001b[0m filename \u001b[38;5;241m=\u001b[39m \u001b[38;5;124mf\u001b[39m\u001b[38;5;124m'\u001b[39m\u001b[38;5;124mVLowRes/\u001b[39m\u001b[38;5;132;01m{\u001b[39;00mgalaxy\u001b[38;5;132;01m}\u001b[39;00m\u001b[38;5;124m/\u001b[39m\u001b[38;5;132;01m{\u001b[39;00mgalaxy\u001b[38;5;132;01m}\u001b[39;00m\u001b[38;5;124m_\u001b[39m\u001b[38;5;132;01m{\u001b[39;00milbl\u001b[38;5;132;01m}\u001b[39;00m\u001b[38;5;124m.txt\u001b[39m\u001b[38;5;124m'\u001b[39m\n\u001b[0;32m     51\u001b[0m \u001b[38;5;66;03m# Initialize an instance of CenterOfMass class, using disk particles\u001b[39;00m\n\u001b[1;32m---> 52\u001b[0m COM \u001b[38;5;241m=\u001b[39m \u001b[43mCenterOfMass\u001b[49m\u001b[43m(\u001b[49m\u001b[43mfilename\u001b[49m\u001b[43m,\u001b[49m\u001b[43m \u001b[49m\u001b[38;5;241;43m2\u001b[39;49m\u001b[43m)\u001b[49m \u001b[38;5;66;03m# for disk particle\u001b[39;00m\n\u001b[0;32m     54\u001b[0m \u001b[38;5;66;03m# Store the COM pos and vel. Remember that now COM_P required VolDec\u001b[39;00m\n\u001b[0;32m     55\u001b[0m com_pos \u001b[38;5;241m=\u001b[39m COM\u001b[38;5;241m.\u001b[39mCOM_P(delta \u001b[38;5;241m=\u001b[39m delta, volDec \u001b[38;5;241m=\u001b[39m volDec)\n",
      "File \u001b[1;32m~\\OneDrive\\Desktop\\Suffering\\Undergrad\\ASTR400B\\Homeworks\\Homework4\\CenterOfMass_v2.py:40\u001b[0m, in \u001b[0;36mCenterOfMass.__init__\u001b[1;34m(self, filename, ptype)\u001b[0m\n\u001b[0;32m     28\u001b[0m \u001b[38;5;250m\u001b[39m\u001b[38;5;124;03m''' Class to calculate the 6-D phase-space position of a galaxy's center of mass using\u001b[39;00m\n\u001b[0;32m     29\u001b[0m \u001b[38;5;124;03ma specified particle type. \u001b[39;00m\n\u001b[0;32m     30\u001b[0m \u001b[38;5;124;03m    \u001b[39;00m\n\u001b[1;32m   (...)\u001b[0m\n\u001b[0;32m     36\u001b[0m \u001b[38;5;124;03m        particle type to use for COM calculations\u001b[39;00m\n\u001b[0;32m     37\u001b[0m \u001b[38;5;124;03m'''\u001b[39;00m\n\u001b[0;32m     39\u001b[0m \u001b[38;5;66;03m# read data in the given file using Read\u001b[39;00m\n\u001b[1;32m---> 40\u001b[0m \u001b[38;5;28mself\u001b[39m\u001b[38;5;241m.\u001b[39mtime, \u001b[38;5;28mself\u001b[39m\u001b[38;5;241m.\u001b[39mtotal, \u001b[38;5;28mself\u001b[39m\u001b[38;5;241m.\u001b[39mdata \u001b[38;5;241m=\u001b[39m \u001b[43mRead\u001b[49m\u001b[43m(\u001b[49m\u001b[43mfilename\u001b[49m\u001b[43m)\u001b[49m                                                                                             \n\u001b[0;32m     42\u001b[0m \u001b[38;5;66;03m#create an array to store indexes of particles of desired Ptype                                \u001b[39;00m\n\u001b[0;32m     43\u001b[0m \u001b[38;5;28mself\u001b[39m\u001b[38;5;241m.\u001b[39mindex \u001b[38;5;241m=\u001b[39m np\u001b[38;5;241m.\u001b[39mwhere(\u001b[38;5;28mself\u001b[39m\u001b[38;5;241m.\u001b[39mdata[\u001b[38;5;124m'\u001b[39m\u001b[38;5;124mtype\u001b[39m\u001b[38;5;124m'\u001b[39m] \u001b[38;5;241m==\u001b[39m ptype)\n",
      "File \u001b[1;32m~\\OneDrive\\Desktop\\Suffering\\Undergrad\\ASTR400B\\Homeworks\\Homework3\\ReadFile.py:22\u001b[0m, in \u001b[0;36mRead\u001b[1;34m(filename)\u001b[0m\n\u001b[0;32m     13\u001b[0m \u001b[38;5;250m\u001b[39m\u001b[38;5;124;03m'''\u001b[39;00m\n\u001b[0;32m     14\u001b[0m \u001b[38;5;124;03mThis function will open and read the input file (MW_000.txt in this case).\u001b[39;00m\n\u001b[0;32m     15\u001b[0m \u001b[38;5;124;03mInputs: \u001b[39;00m\n\u001b[1;32m   (...)\u001b[0m\n\u001b[0;32m     19\u001b[0m \u001b[38;5;124;03m    particle type, mass, x, y, z, vx, vy, vz columns as a data array\u001b[39;00m\n\u001b[0;32m     20\u001b[0m \u001b[38;5;124;03m'''\u001b[39;00m\n\u001b[0;32m     21\u001b[0m \u001b[38;5;66;03m# Open the file\u001b[39;00m\n\u001b[1;32m---> 22\u001b[0m file \u001b[38;5;241m=\u001b[39m \u001b[38;5;28;43mopen\u001b[39;49m\u001b[43m(\u001b[49m\u001b[43mfilename\u001b[49m\u001b[43m)\u001b[49m\n\u001b[0;32m     24\u001b[0m \u001b[38;5;66;03m# Read the first line and store the time in units of Myr\u001b[39;00m\n\u001b[0;32m     25\u001b[0m line1 \u001b[38;5;241m=\u001b[39m  file\u001b[38;5;241m.\u001b[39mreadline() \u001b[38;5;66;03m# read the first line  \u001b[39;00m\n",
      "\u001b[1;31mFileNotFoundError\u001b[0m: [Errno 2] No such file or directory: 'VLowRes/MW/MW_000.txt'"
     ]
    }
   ],
   "source": [
    "# Recover the orbits and generate the COM files for each galaxy\n",
    "# read in 800 snapshots in intervals of n=5\n",
    "# Note: This might take a little while - test your code with a smaller number of snapshots first! \n",
    "OrbitCOM(\"MW\", 0, 800, 5)\n",
    "OrbitCOM(\"M31\", 0, 800, 5)\n",
    "OrbitCOM(\"M33\", 0, 800, 5)"
   ]
  },
  {
   "cell_type": "code",
   "execution_count": null,
   "metadata": {},
   "outputs": [
    {
     "ename": "FileNotFoundError",
     "evalue": "Orbit_MW.txt not found.",
     "output_type": "error",
     "traceback": [
      "\u001b[1;31m---------------------------------------------------------------------------\u001b[0m",
      "\u001b[1;31mFileNotFoundError\u001b[0m                         Traceback (most recent call last)",
      "Cell \u001b[1;32mIn[25], line 4\u001b[0m\n\u001b[0;32m      1\u001b[0m \u001b[38;5;66;03m# Read in the data files for the orbits of each galaxy that you just created\u001b[39;00m\n\u001b[0;32m      2\u001b[0m \u001b[38;5;66;03m# headers:  t, x, y, z, vx, vy, vz\u001b[39;00m\n\u001b[0;32m      3\u001b[0m \u001b[38;5;66;03m# using np.genfromtxt\u001b[39;00m\n\u001b[1;32m----> 4\u001b[0m dataMW  \u001b[38;5;241m=\u001b[39m \u001b[43mnp\u001b[49m\u001b[38;5;241;43m.\u001b[39;49m\u001b[43mgenfromtxt\u001b[49m\u001b[43m(\u001b[49m\u001b[38;5;124;43m\"\u001b[39;49m\u001b[38;5;124;43mOrbit_MW.txt\u001b[39;49m\u001b[38;5;124;43m\"\u001b[39;49m\u001b[43m,\u001b[49m\u001b[43m \u001b[49m\u001b[43mcomments\u001b[49m\u001b[38;5;241;43m=\u001b[39;49m\u001b[38;5;124;43m'\u001b[39;49m\u001b[38;5;124;43m#\u001b[39;49m\u001b[38;5;124;43m'\u001b[39;49m\u001b[43m)\u001b[49m\n\u001b[0;32m      5\u001b[0m dataM31 \u001b[38;5;241m=\u001b[39m np\u001b[38;5;241m.\u001b[39mgenfromtxt(\u001b[38;5;124m\"\u001b[39m\u001b[38;5;124mOrbit_M31.txt\u001b[39m\u001b[38;5;124m\"\u001b[39m, comments\u001b[38;5;241m=\u001b[39m\u001b[38;5;124m'\u001b[39m\u001b[38;5;124m#\u001b[39m\u001b[38;5;124m'\u001b[39m)\n\u001b[0;32m      6\u001b[0m dataM33 \u001b[38;5;241m=\u001b[39m np\u001b[38;5;241m.\u001b[39mgenfromtxt(\u001b[38;5;124m\"\u001b[39m\u001b[38;5;124mOrbit_M33.txt\u001b[39m\u001b[38;5;124m\"\u001b[39m, comments\u001b[38;5;241m=\u001b[39m\u001b[38;5;124m'\u001b[39m\u001b[38;5;124m#\u001b[39m\u001b[38;5;124m'\u001b[39m)\n",
      "File \u001b[1;32m~\\AppData\\Local\\Packages\\PythonSoftwareFoundation.Python.3.12_qbz5n2kfra8p0\\LocalCache\\local-packages\\Python312\\site-packages\\numpy\\lib\\npyio.py:1980\u001b[0m, in \u001b[0;36mgenfromtxt\u001b[1;34m(fname, dtype, comments, delimiter, skip_header, skip_footer, converters, missing_values, filling_values, usecols, names, excludelist, deletechars, replace_space, autostrip, case_sensitive, defaultfmt, unpack, usemask, loose, invalid_raise, max_rows, encoding, ndmin, like)\u001b[0m\n\u001b[0;32m   1978\u001b[0m     fname \u001b[38;5;241m=\u001b[39m os_fspath(fname)\n\u001b[0;32m   1979\u001b[0m \u001b[38;5;28;01mif\u001b[39;00m \u001b[38;5;28misinstance\u001b[39m(fname, \u001b[38;5;28mstr\u001b[39m):\n\u001b[1;32m-> 1980\u001b[0m     fid \u001b[38;5;241m=\u001b[39m \u001b[43mnp\u001b[49m\u001b[38;5;241;43m.\u001b[39;49m\u001b[43mlib\u001b[49m\u001b[38;5;241;43m.\u001b[39;49m\u001b[43m_datasource\u001b[49m\u001b[38;5;241;43m.\u001b[39;49m\u001b[43mopen\u001b[49m\u001b[43m(\u001b[49m\u001b[43mfname\u001b[49m\u001b[43m,\u001b[49m\u001b[43m \u001b[49m\u001b[38;5;124;43m'\u001b[39;49m\u001b[38;5;124;43mrt\u001b[39;49m\u001b[38;5;124;43m'\u001b[39;49m\u001b[43m,\u001b[49m\u001b[43m \u001b[49m\u001b[43mencoding\u001b[49m\u001b[38;5;241;43m=\u001b[39;49m\u001b[43mencoding\u001b[49m\u001b[43m)\u001b[49m\n\u001b[0;32m   1981\u001b[0m     fid_ctx \u001b[38;5;241m=\u001b[39m contextlib\u001b[38;5;241m.\u001b[39mclosing(fid)\n\u001b[0;32m   1982\u001b[0m \u001b[38;5;28;01melse\u001b[39;00m:\n",
      "File \u001b[1;32m~\\AppData\\Local\\Packages\\PythonSoftwareFoundation.Python.3.12_qbz5n2kfra8p0\\LocalCache\\local-packages\\Python312\\site-packages\\numpy\\lib\\_datasource.py:193\u001b[0m, in \u001b[0;36mopen\u001b[1;34m(path, mode, destpath, encoding, newline)\u001b[0m\n\u001b[0;32m    156\u001b[0m \u001b[38;5;250m\u001b[39m\u001b[38;5;124;03m\"\"\"\u001b[39;00m\n\u001b[0;32m    157\u001b[0m \u001b[38;5;124;03mOpen `path` with `mode` and return the file object.\u001b[39;00m\n\u001b[0;32m    158\u001b[0m \n\u001b[1;32m   (...)\u001b[0m\n\u001b[0;32m    189\u001b[0m \n\u001b[0;32m    190\u001b[0m \u001b[38;5;124;03m\"\"\"\u001b[39;00m\n\u001b[0;32m    192\u001b[0m ds \u001b[38;5;241m=\u001b[39m DataSource(destpath)\n\u001b[1;32m--> 193\u001b[0m \u001b[38;5;28;01mreturn\u001b[39;00m \u001b[43mds\u001b[49m\u001b[38;5;241;43m.\u001b[39;49m\u001b[43mopen\u001b[49m\u001b[43m(\u001b[49m\u001b[43mpath\u001b[49m\u001b[43m,\u001b[49m\u001b[43m \u001b[49m\u001b[43mmode\u001b[49m\u001b[43m,\u001b[49m\u001b[43m \u001b[49m\u001b[43mencoding\u001b[49m\u001b[38;5;241;43m=\u001b[39;49m\u001b[43mencoding\u001b[49m\u001b[43m,\u001b[49m\u001b[43m \u001b[49m\u001b[43mnewline\u001b[49m\u001b[38;5;241;43m=\u001b[39;49m\u001b[43mnewline\u001b[49m\u001b[43m)\u001b[49m\n",
      "File \u001b[1;32m~\\AppData\\Local\\Packages\\PythonSoftwareFoundation.Python.3.12_qbz5n2kfra8p0\\LocalCache\\local-packages\\Python312\\site-packages\\numpy\\lib\\_datasource.py:533\u001b[0m, in \u001b[0;36mDataSource.open\u001b[1;34m(self, path, mode, encoding, newline)\u001b[0m\n\u001b[0;32m    530\u001b[0m     \u001b[38;5;28;01mreturn\u001b[39;00m _file_openers[ext](found, mode\u001b[38;5;241m=\u001b[39mmode,\n\u001b[0;32m    531\u001b[0m                               encoding\u001b[38;5;241m=\u001b[39mencoding, newline\u001b[38;5;241m=\u001b[39mnewline)\n\u001b[0;32m    532\u001b[0m \u001b[38;5;28;01melse\u001b[39;00m:\n\u001b[1;32m--> 533\u001b[0m     \u001b[38;5;28;01mraise\u001b[39;00m \u001b[38;5;167;01mFileNotFoundError\u001b[39;00m(\u001b[38;5;124mf\u001b[39m\u001b[38;5;124m\"\u001b[39m\u001b[38;5;132;01m{\u001b[39;00mpath\u001b[38;5;132;01m}\u001b[39;00m\u001b[38;5;124m not found.\u001b[39m\u001b[38;5;124m\"\u001b[39m)\n",
      "\u001b[1;31mFileNotFoundError\u001b[0m: Orbit_MW.txt not found."
     ]
    }
   ],
   "source": [
    "# Read in the data files for the orbits of each galaxy that you just created\n",
    "# headers:  t, x, y, z, vx, vy, vz\n",
    "# using np.genfromtxt\n",
    "dataMW  = np.genfromtxt(\"Orbit_MW.txt\", comments='#')\n",
    "dataM31 = np.genfromtxt(\"Orbit_M31.txt\", comments='#')\n",
    "dataM33 = np.genfromtxt(\"Orbit_M33.txt\", comments='#')\n",
    "\n",
    "# Columns for MW\n",
    "t_MW  = dataMW[:, 0]\n",
    "x_MW  = dataMW[:, 1]\n",
    "y_MW  = dataMW[:, 2]\n",
    "z_MW  = dataMW[:, 3]\n",
    "vx_MW = dataMW[:, 4]\n",
    "vy_MW = dataMW[:, 5]\n",
    "vz_MW = dataMW[:, 6]\n",
    "\n",
    "# Columns for M31\n",
    "t_M31  = dataM31[:, 0]\n",
    "x_M31  = dataM31[:, 1]\n",
    "y_M31  = dataM31[:, 2]\n",
    "z_M31  = dataM31[:, 3]\n",
    "vx_M31 = dataM31[:, 4]\n",
    "vy_M31 = dataM31[:, 5]\n",
    "vz_M31 = dataM31[:, 6]\n",
    "\n",
    "# Columns for M33\n",
    "t_M33  = dataM33[:, 0]\n",
    "x_M33  = dataM33[:, 1]\n",
    "y_M33  = dataM33[:, 2]\n",
    "z_M33  = dataM33[:, 3]\n",
    "vx_M33 = dataM33[:, 4]\n",
    "vy_M33 = dataM33[:, 5]\n",
    "vz_M33 = dataM33[:, 6]"
   ]
  },
  {
   "cell_type": "code",
   "execution_count": null,
   "metadata": {},
   "outputs": [],
   "source": [
    "# function to compute the magnitude of the difference between two vectors \n",
    "# You can use this function to return both the relative position and relative velocity for two \n",
    "# galaxies over the entire orbit  \n"
   ]
  },
  {
   "cell_type": "code",
   "execution_count": null,
   "metadata": {},
   "outputs": [],
   "source": [
    "# Determine the magnitude of the relative position and velocities \n",
    "\n",
    "# of MW and M31\n",
    "\n",
    "# of M33 and M31\n"
   ]
  },
  {
   "cell_type": "code",
   "execution_count": null,
   "metadata": {},
   "outputs": [],
   "source": [
    "# Plot the Orbit of the galaxies \n",
    "#################################\n",
    "\n"
   ]
  },
  {
   "cell_type": "code",
   "execution_count": null,
   "metadata": {},
   "outputs": [],
   "source": [
    "# Plot the orbital velocities of the galaxies \n",
    "#################################\n"
   ]
  },
  {
   "cell_type": "code",
   "execution_count": null,
   "metadata": {},
   "outputs": [],
   "source": []
  }
 ],
 "metadata": {
  "kernelspec": {
   "display_name": "Python 3",
   "language": "python",
   "name": "python3"
  },
  "language_info": {
   "codemirror_mode": {
    "name": "ipython",
    "version": 3
   },
   "file_extension": ".py",
   "mimetype": "text/x-python",
   "name": "python",
   "nbconvert_exporter": "python",
   "pygments_lexer": "ipython3",
   "version": "3.12.9"
  }
 },
 "nbformat": 4,
 "nbformat_minor": 2
}
