{
 "cells": [
  {
   "cell_type": "code",
   "execution_count": 6,
   "metadata": {},
   "outputs": [],
   "source": [
    "# Import modules \n",
    "import numpy as np\n",
    "import astropy.units as u"
   ]
  },
  {
   "cell_type": "code",
   "execution_count": 7,
   "metadata": {},
   "outputs": [],
   "source": [
    "from ReadFile import Read # import the Read function\n",
    "# returning the time, and total number of particles as variables (don't need this)\n",
    "# returning the data: particle type, mass, x, y, z, vx, vy, vz columns as a data array"
   ]
  },
  {
   "cell_type": "code",
   "execution_count": 8,
   "metadata": {},
   "outputs": [],
   "source": [
    "def ComponentMass(filename, particle_type):\n",
    "    ''' \n",
    "    This function will read the given file and return the total mass of any desired galaxy component, rounded to three decimal places. \n",
    "   Inputs: \n",
    "       filename is the input file\n",
    "       particle_type is the type of particle\n",
    "            This includes: type 1 (Halo), type 2 (Disk), and type 3 (Bulge) \n",
    "   Output: \n",
    "       total_mass (unit 10e12 M_sun) is the total mass of galaxy component\n",
    "    '''\n",
    "\n",
    "    # Retrieve values from the data file using Read function\n",
    "    _, _, data = Read(filename) # ignoring the time and total_particles info\n",
    "\n",
    "    # Checking indices for particles of a given type\n",
    "    index = np.where(data['type'] == particle_type)\n",
    "\n",
    "    # Take out the data of only the given type particles\n",
    "    given_type_particles = data[index]\n",
    "\n",
    "    # Extract the masses of particles (in 1e12 M_sun)\n",
    "    mass = given_type_particles['m'] / 1e2 * u.M_sun # the original data given the mass in 10e10 M_sun\n",
    "\n",
    "    # Add all the masses together, round to 3 decimal places\n",
    "    total_mass = np.round(np.sum(mass),3)\n",
    "\n",
    "    return total_mass"
   ]
  },
  {
   "cell_type": "code",
   "execution_count": 11,
   "metadata": {},
   "outputs": [
    {
     "name": "stdout",
     "output_type": "stream",
     "text": [
      "   Galaxy Name  Halo Mass (10e12 M_sun)  Disk Mass (10e12 M_sun)  \\\n",
      "0           MW                    1.975                    0.075   \n",
      "1          M31                    1.921                    0.120   \n",
      "2          M33                    0.187                    0.009   \n",
      "3  Local Group                    4.083                    0.204   \n",
      "\n",
      "   Bulge Mass (10e12 M_sun)  Total Mass (10e12 M_sun)  f_bar  \n",
      "0                     0.010                     2.060  0.041  \n",
      "1                     0.019                     2.060  0.067  \n",
      "2                     0.000                     0.196  0.046  \n",
      "3                     0.029                     4.316  0.054  \n"
     ]
    }
   ],
   "source": [
    "# Creating the data table for question 3\n",
    "import pandas as pd\n",
    "\n",
    "# Creating the dictionary to store galaxy informations\n",
    "galaxies_table = {\n",
    "    'Galaxy Name': ['MW', 'M31', 'M33'],\n",
    "    'Halo Mass (10e12 M_sun)': [\n",
    "        ComponentMass('MW_000.txt', 1).value, \n",
    "        ComponentMass('M31_000.txt', 1).value,\n",
    "        ComponentMass('M33_000.txt', 1).value],\n",
    "    'Disk Mass (10e12 M_sun)': [\n",
    "        ComponentMass('MW_000.txt', 2).value, \n",
    "        ComponentMass('M31_000.txt', 2).value, \n",
    "        ComponentMass('M33_000.txt', 2).value],\n",
    "    'Bulge Mass (10e12 M_sun)': [\n",
    "        ComponentMass('MW_000.txt', 3).value, \n",
    "        ComponentMass('M31_000.txt', 3).value, \n",
    "        0.0] # no bulge at M33\n",
    "}\n",
    "\n",
    "# Convert the dictionary to Pandas dataframe\n",
    "df = pd.DataFrame(galaxies_table)\n",
    "\n",
    "# Compute total mass of each galaxy: \n",
    "df['Total Mass (10e12 M_sun)'] = df['Halo Mass (10e12 M_sun)'] + df['Disk Mass (10e12 M_sun)'] + df['Bulge Mass (10e12 M_sun)']\n",
    "\n",
    "# Compute the bayron fraction for each galaxy and the whole local group \n",
    "# f_bar = total_stellar_mass / total_mass (dark + stellar)\n",
    "df[\"f_bar\"] = np.round((df[\"Disk Mass (10e12 M_sun)\"] + df[\"Bulge Mass (10e12 M_sun)\"]) / df[\"Total Mass (10e12 M_sun)\"], 3)\n",
    "\n",
    "# Compute the total mass of the Local Group and add it to the table\n",
    "total_local_group_halo = df[\"Halo Mass (10e12 M_sun)\"].sum()\n",
    "total_local_group_disk = df[\"Disk Mass (10e12 M_sun)\"].sum()\n",
    "total_local_group_bulge = df[\"Bulge Mass (10e12 M_sun)\"].sum()\n",
    "total_local_group_mass = df[\"Total Mass (10e12 M_sun)\"].sum()\n",
    "total_local_group_fbar = np.round((total_local_group_disk + total_local_group_bulge) / total_local_group_mass, 3)\n",
    "df.loc[len(df)] = [\"Local Group\", \n",
    "                   total_local_group_halo, \n",
    "                   total_local_group_disk,\n",
    "                   total_local_group_bulge,\n",
    "                   total_local_group_mass,\n",
    "                   total_local_group_fbar]\n",
    "\n",
    "# Display the table\n",
    "print(df)\n"
   ]
  },
  {
   "cell_type": "markdown",
   "metadata": {},
   "source": []
  }
 ],
 "metadata": {
  "kernelspec": {
   "display_name": "Python 3",
   "language": "python",
   "name": "python3"
  },
  "language_info": {
   "codemirror_mode": {
    "name": "ipython",
    "version": 3
   },
   "file_extension": ".py",
   "mimetype": "text/x-python",
   "name": "python",
   "nbconvert_exporter": "python",
   "pygments_lexer": "ipython3",
   "version": "3.12.9"
  }
 },
 "nbformat": 4,
 "nbformat_minor": 2
}
